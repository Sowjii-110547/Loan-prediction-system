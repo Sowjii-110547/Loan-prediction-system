{
 "cells": [
  {
   "cell_type": "code",
   "execution_count": null,
   "metadata": {},
   "outputs": [
    {
     "name": "stdout",
     "output_type": "stream",
     "text": [
      "Shape of features after encoding: (45000, 22)\n",
      "Model Accuracy: 0.86\n"
     ]
    },
    {
     "name": "stderr",
     "output_type": "stream",
     "text": [
      "c:\\Users\\sowja\\AppData\\Local\\Programs\\Python\\Python310\\lib\\site-packages\\sklearn\\linear_model\\_logistic.py:465: ConvergenceWarning: lbfgs failed to converge (status=1):\n",
      "STOP: TOTAL NO. OF ITERATIONS REACHED LIMIT.\n",
      "\n",
      "Increase the number of iterations (max_iter) or scale the data as shown in:\n",
      "    https://scikit-learn.org/stable/modules/preprocessing.html\n",
      "Please also refer to the documentation for alternative solver options:\n",
      "    https://scikit-learn.org/stable/modules/linear_model.html#logistic-regression\n",
      "  n_iter_i = _check_optimize_result(\n"
     ]
    },
    {
     "data": {
      "text/plain": [
       "['loan_transformer.pkl']"
      ]
     },
     "execution_count": 1,
     "metadata": {},
     "output_type": "execute_result"
    }
   ],
   "source": [
    "import pandas as pd\n",
    "import numpy as np\n",
    "from sklearn.model_selection import train_test_split\n",
    "from sklearn.preprocessing import OneHotEncoder\n",
    "from sklearn.compose import ColumnTransformer\n",
    "from sklearn.linear_model import LogisticRegression\n",
    "from sklearn.metrics import accuracy_score\n",
    "import joblib\n",
    "\n",
    "# Load dataset\n",
    "dataset = pd.read_csv(\"loan_data.csv\")\n",
    "\n",
    "# Check for missing values\n",
    "if dataset.isnull().sum().any():\n",
    "    print(\"Warning: Missing values found in the dataset. Consider handling them before proceeding.\")\n",
    "\n",
    "# Define features and target\n",
    "features = dataset.iloc[:, :-1].values  # All columns except the last one\n",
    "target = dataset.iloc[:, -1].values      # Last column as target\n",
    "\n",
    "# Identify categorical columns (adjust indices based on your dataset)\n",
    "categorical_columns = [1,2,4,6,7]  # Indices of categorical features 1, 2,4, 6, 7]\n",
    "\n",
    "# One-Hot Encode categorical variables\n",
    "# One-Hot Encode categorical variables\n",
    "ct = ColumnTransformer(\n",
    "    transformers=[('encoder', OneHotEncoder(), categorical_columns)],\n",
    "    remainder='passthrough'\n",
    ")\n",
    "\n",
    "# Fit and transform the features\n",
    "features = ct.fit_transform(features)\n",
    "\n",
    "# 🔽 ADD THIS RIGHT AFTER one-hot encoding and before train-test split\n",
    "from sklearn.preprocessing import StandardScaler\n",
    "sc = StandardScaler()\n",
    "features = sc.fit_transform(features)\n",
    "\n",
    "# Debugging output\n",
    "print(f\"Shape of features after encoding and scaling: {features.shape}\")\n",
    "\n",
    "# Encode target variable\n",
    "from sklearn.preprocessing import LabelEncoder\n",
    "le = LabelEncoder()\n",
    "target = le.fit_transform(target)\n",
    "\n",
    "# Split data into training and testing sets\n",
    "X_train, X_test, y_train, y_test = train_test_split(features, target, test_size=0.2, random_state=42)\n",
    "\n",
    "classifier = LogisticRegression(max_iter=1000)  # Increase max_iter if convergence issues occur\n",
    "classifier.fit(X_train, y_train)\n",
    "\n",
    "# Evaluate model\n",
    "y_pred = classifier.predict(X_test)\n",
    "accuracy = accuracy_score(y_test, y_pred)\n",
    "print(f'Model Accuracy: {accuracy:.2f}')\n",
    "\n",
    "# Save model and transformer\n",
    "joblib.dump(classifier, 'loan_model.pkl')\n",
    "joblib.dump(ct, 'loan_transformer.pkl')"
   ]
  }
 ],
 "metadata": {
  "kernelspec": {
   "display_name": "Python 3",
   "language": "python",
   "name": "python3"
  },
  "language_info": {
   "codemirror_mode": {
    "name": "ipython",
    "version": 3
   },
   "file_extension": ".py",
   "mimetype": "text/x-python",
   "name": "python",
   "nbconvert_exporter": "python",
   "pygments_lexer": "ipython3",
   "version": "3.10.11"
  }
 },
 "nbformat": 4,
 "nbformat_minor": 2
}
